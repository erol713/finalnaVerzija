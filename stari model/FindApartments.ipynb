{
 "cells": [
  {
   "cell_type": "code",
   "execution_count": 1,
   "metadata": {},
   "outputs": [],
   "source": [
    "import numpy as np\n",
    "import pandas as pd\n",
    "import matplotlib.pyplot as plt\n",
    "import seaborn as sns\n",
    "%matplotlib inline\n",
    "\n",
    "from tqdm import tqdm_notebook"
   ]
  },
  {
   "cell_type": "code",
   "execution_count": 2,
   "metadata": {},
   "outputs": [],
   "source": [
    "df = pd.read_csv('stanovi_podaci_2018.csv')"
   ]
  },
  {
   "cell_type": "code",
   "execution_count": 3,
   "metadata": {},
   "outputs": [
    {
     "data": {
      "text/html": [
       "<div>\n",
       "<style scoped>\n",
       "    .dataframe tbody tr th:only-of-type {\n",
       "        vertical-align: middle;\n",
       "    }\n",
       "\n",
       "    .dataframe tbody tr th {\n",
       "        vertical-align: top;\n",
       "    }\n",
       "\n",
       "    .dataframe thead th {\n",
       "        text-align: right;\n",
       "    }\n",
       "</style>\n",
       "<table border=\"1\" class=\"dataframe\">\n",
       "  <thead>\n",
       "    <tr style=\"text-align: right;\">\n",
       "      <th></th>\n",
       "      <th>url</th>\n",
       "      <th>naziv</th>\n",
       "      <th>cijena</th>\n",
       "      <th>lokacija</th>\n",
       "      <th>lat</th>\n",
       "      <th>lng</th>\n",
       "      <th>Kvadrata</th>\n",
       "      <th>Broj soba</th>\n",
       "      <th>Adresa</th>\n",
       "      <th>Godina izgradnje</th>\n",
       "      <th>Primarna orjentacija</th>\n",
       "    </tr>\n",
       "  </thead>\n",
       "  <tbody>\n",
       "    <tr>\n",
       "      <th>0</th>\n",
       "      <td>https://www.olx.ba/artikal/31132056/stan-sa-1-...</td>\n",
       "      <td>[IZDAVANJE] Stan sa 1 spavacom sobom.</td>\n",
       "      <td>400 KM</td>\n",
       "      <td>Novo Sarajevo</td>\n",
       "      <td>43.848575</td>\n",
       "      <td>18.380615</td>\n",
       "      <td>37</td>\n",
       "      <td>Dvosoban (2)</td>\n",
       "      <td>Dzamiska 15</td>\n",
       "      <td>1970-1979</td>\n",
       "      <td>Istok</td>\n",
       "    </tr>\n",
       "    <tr>\n",
       "      <th>1</th>\n",
       "      <td>https://www.olx.ba/artikal/28081732/exclusive-...</td>\n",
       "      <td>[IZDAVANJE] EXCLUSIVE stan 60m2</td>\n",
       "      <td>800 KM</td>\n",
       "      <td>Novo Sarajevo</td>\n",
       "      <td>43.853712</td>\n",
       "      <td>18.388180</td>\n",
       "      <td>60</td>\n",
       "      <td>Dvosoban (2)</td>\n",
       "      <td>Kolodvorska</td>\n",
       "      <td>NaN</td>\n",
       "      <td>Sjeveroistok</td>\n",
       "    </tr>\n",
       "    <tr>\n",
       "      <th>2</th>\n",
       "      <td>https://www.olx.ba/artikal/31344526/luksuzan-t...</td>\n",
       "      <td>[IZDAVANJE] Luksuzan trosoban stan sa parking ...</td>\n",
       "      <td>2000 KM</td>\n",
       "      <td>Novo Sarajevo</td>\n",
       "      <td>43.852722</td>\n",
       "      <td>18.388061</td>\n",
       "      <td>80</td>\n",
       "      <td>Trosoban (3)</td>\n",
       "      <td>Zmaja od Bosne</td>\n",
       "      <td>2010+</td>\n",
       "      <td>Jugoistok</td>\n",
       "    </tr>\n",
       "    <tr>\n",
       "      <th>3</th>\n",
       "      <td>https://www.olx.ba/artikal/31017750/izdajem-st...</td>\n",
       "      <td>[IZDAVANJE] Izdajem stan Sarajevo novogradnja</td>\n",
       "      <td>380 KM</td>\n",
       "      <td>Ilidža</td>\n",
       "      <td>43.858178</td>\n",
       "      <td>18.412220</td>\n",
       "      <td>38</td>\n",
       "      <td>Jednoiposoban (1.5)</td>\n",
       "      <td>NaN</td>\n",
       "      <td>NaN</td>\n",
       "      <td>NaN</td>\n",
       "    </tr>\n",
       "    <tr>\n",
       "      <th>4</th>\n",
       "      <td>https://www.olx.ba/artikal/31431532/trosoban-s...</td>\n",
       "      <td>[IZDAVANJE] Trosoban stan na Breki</td>\n",
       "      <td>800 KM</td>\n",
       "      <td>Sarajevo - Centar</td>\n",
       "      <td>43.870051</td>\n",
       "      <td>18.417373</td>\n",
       "      <td>74</td>\n",
       "      <td>Trosoban (3)</td>\n",
       "      <td>Jovana Bijelića</td>\n",
       "      <td>NaN</td>\n",
       "      <td>NaN</td>\n",
       "    </tr>\n",
       "  </tbody>\n",
       "</table>\n",
       "</div>"
      ],
      "text/plain": [
       "                                                 url  \\\n",
       "0  https://www.olx.ba/artikal/31132056/stan-sa-1-...   \n",
       "1  https://www.olx.ba/artikal/28081732/exclusive-...   \n",
       "2  https://www.olx.ba/artikal/31344526/luksuzan-t...   \n",
       "3  https://www.olx.ba/artikal/31017750/izdajem-st...   \n",
       "4  https://www.olx.ba/artikal/31431532/trosoban-s...   \n",
       "\n",
       "                                               naziv   cijena  \\\n",
       "0              [IZDAVANJE] Stan sa 1 spavacom sobom.   400 KM   \n",
       "1                    [IZDAVANJE] EXCLUSIVE stan 60m2   800 KM   \n",
       "2  [IZDAVANJE] Luksuzan trosoban stan sa parking ...  2000 KM   \n",
       "3      [IZDAVANJE] Izdajem stan Sarajevo novogradnja   380 KM   \n",
       "4                 [IZDAVANJE] Trosoban stan na Breki   800 KM   \n",
       "\n",
       "            lokacija        lat        lng Kvadrata            Broj soba  \\\n",
       "0      Novo Sarajevo  43.848575  18.380615       37         Dvosoban (2)   \n",
       "1      Novo Sarajevo  43.853712  18.388180       60         Dvosoban (2)   \n",
       "2      Novo Sarajevo  43.852722  18.388061       80         Trosoban (3)   \n",
       "3             Ilidža  43.858178  18.412220       38  Jednoiposoban (1.5)   \n",
       "4  Sarajevo - Centar  43.870051  18.417373       74         Trosoban (3)   \n",
       "\n",
       "            Adresa Godina izgradnje Primarna orjentacija  \n",
       "0      Dzamiska 15        1970-1979                Istok  \n",
       "1      Kolodvorska              NaN         Sjeveroistok  \n",
       "2   Zmaja od Bosne            2010+            Jugoistok  \n",
       "3              NaN              NaN                  NaN  \n",
       "4  Jovana Bijelića              NaN                  NaN  "
      ]
     },
     "execution_count": 3,
     "metadata": {},
     "output_type": "execute_result"
    }
   ],
   "source": [
    "df.head()"
   ]
  },
  {
   "cell_type": "code",
   "execution_count": 4,
   "metadata": {},
   "outputs": [
    {
     "data": {
      "text/plain": [
       "(2487, 11)"
      ]
     },
     "execution_count": 4,
     "metadata": {},
     "output_type": "execute_result"
    }
   ],
   "source": [
    "df.shape"
   ]
  },
  {
   "cell_type": "code",
   "execution_count": 5,
   "metadata": {},
   "outputs": [
    {
     "name": "stdout",
     "output_type": "stream",
     "text": [
      "<class 'pandas.core.frame.DataFrame'>\n",
      "RangeIndex: 2487 entries, 0 to 2486\n",
      "Data columns (total 11 columns):\n",
      "url                     2487 non-null object\n",
      "naziv                   2472 non-null object\n",
      "cijena                  2487 non-null object\n",
      "lokacija                2472 non-null object\n",
      "lat                     2403 non-null float64\n",
      "lng                     2403 non-null float64\n",
      "Kvadrata                2467 non-null object\n",
      "Broj soba               2469 non-null object\n",
      "Adresa                  2222 non-null object\n",
      "Godina izgradnje        1099 non-null object\n",
      "Primarna orjentacija    827 non-null object\n",
      "dtypes: float64(2), object(9)\n",
      "memory usage: 213.8+ KB\n"
     ]
    }
   ],
   "source": [
    "df.info()"
   ]
  },
  {
   "cell_type": "code",
   "execution_count": 6,
   "metadata": {},
   "outputs": [
    {
     "data": {
      "text/html": [
       "<div>\n",
       "<style scoped>\n",
       "    .dataframe tbody tr th:only-of-type {\n",
       "        vertical-align: middle;\n",
       "    }\n",
       "\n",
       "    .dataframe tbody tr th {\n",
       "        vertical-align: top;\n",
       "    }\n",
       "\n",
       "    .dataframe thead th {\n",
       "        text-align: right;\n",
       "    }\n",
       "</style>\n",
       "<table border=\"1\" class=\"dataframe\">\n",
       "  <thead>\n",
       "    <tr style=\"text-align: right;\">\n",
       "      <th></th>\n",
       "      <th>lat</th>\n",
       "      <th>lng</th>\n",
       "    </tr>\n",
       "  </thead>\n",
       "  <tbody>\n",
       "    <tr>\n",
       "      <th>count</th>\n",
       "      <td>2403.000000</td>\n",
       "      <td>2403.000000</td>\n",
       "    </tr>\n",
       "    <tr>\n",
       "      <th>mean</th>\n",
       "      <td>43.789170</td>\n",
       "      <td>18.394082</td>\n",
       "    </tr>\n",
       "    <tr>\n",
       "      <th>std</th>\n",
       "      <td>1.565743</td>\n",
       "      <td>0.849407</td>\n",
       "    </tr>\n",
       "    <tr>\n",
       "      <th>min</th>\n",
       "      <td>0.005446</td>\n",
       "      <td>0.000182</td>\n",
       "    </tr>\n",
       "    <tr>\n",
       "      <th>25%</th>\n",
       "      <td>43.849133</td>\n",
       "      <td>18.374859</td>\n",
       "    </tr>\n",
       "    <tr>\n",
       "      <th>50%</th>\n",
       "      <td>43.856033</td>\n",
       "      <td>18.405861</td>\n",
       "    </tr>\n",
       "    <tr>\n",
       "      <th>75%</th>\n",
       "      <td>43.861269</td>\n",
       "      <td>18.418200</td>\n",
       "    </tr>\n",
       "    <tr>\n",
       "      <th>max</th>\n",
       "      <td>47.715115</td>\n",
       "      <td>45.795285</td>\n",
       "    </tr>\n",
       "  </tbody>\n",
       "</table>\n",
       "</div>"
      ],
      "text/plain": [
       "               lat          lng\n",
       "count  2403.000000  2403.000000\n",
       "mean     43.789170    18.394082\n",
       "std       1.565743     0.849407\n",
       "min       0.005446     0.000182\n",
       "25%      43.849133    18.374859\n",
       "50%      43.856033    18.405861\n",
       "75%      43.861269    18.418200\n",
       "max      47.715115    45.795285"
      ]
     },
     "execution_count": 6,
     "metadata": {},
     "output_type": "execute_result"
    }
   ],
   "source": [
    "df.describe()"
   ]
  },
  {
   "cell_type": "code",
   "execution_count": 7,
   "metadata": {},
   "outputs": [
    {
     "data": {
      "text/plain": [
       "array(['Dvosoban (2)', 'Trosoban (3)', 'Jednoiposoban (1.5)',\n",
       "       'Petosoban i više', 'Garsonjera', 'Jednosoban (1)',\n",
       "       'Četverosoban (4)', nan], dtype=object)"
      ]
     },
     "execution_count": 7,
     "metadata": {},
     "output_type": "execute_result"
    }
   ],
   "source": [
    "df['Broj soba'].unique()"
   ]
  },
  {
   "cell_type": "markdown",
   "metadata": {},
   "source": [
    "### Zelimo da nam kolona broj soba bude numericka, tako da cemo zamijeniti postojece vrijednosti sa njihovim odgovarajucim numerickim vrijednostima"
   ]
  },
  {
   "cell_type": "code",
   "execution_count": 8,
   "metadata": {
    "scrolled": true
   },
   "outputs": [
    {
     "data": {
      "application/vnd.jupyter.widget-view+json": {
       "model_id": "e34ed950a77a412c8c23a5a259cfb725",
       "version_major": 2,
       "version_minor": 0
      },
      "text/plain": [
       "HBox(children=(IntProgress(value=0, max=2487), HTML(value='')))"
      ]
     },
     "metadata": {},
     "output_type": "display_data"
    },
    {
     "name": "stderr",
     "output_type": "stream",
     "text": [
      "c:\\users\\hp\\appdata\\local\\programs\\python\\python36\\lib\\site-packages\\ipykernel_launcher.py:10: SettingWithCopyWarning: \n",
      "A value is trying to be set on a copy of a slice from a DataFrame\n",
      "\n",
      "See the caveats in the documentation: http://pandas.pydata.org/pandas-docs/stable/indexing.html#indexing-view-versus-copy\n",
      "  # Remove the CWD from sys.path while we load stuff.\n",
      "c:\\users\\hp\\appdata\\local\\programs\\python\\python36\\lib\\site-packages\\ipykernel_launcher.py:13: SettingWithCopyWarning: \n",
      "A value is trying to be set on a copy of a slice from a DataFrame\n",
      "\n",
      "See the caveats in the documentation: http://pandas.pydata.org/pandas-docs/stable/indexing.html#indexing-view-versus-copy\n",
      "  del sys.path[0]\n",
      "c:\\users\\hp\\appdata\\local\\programs\\python\\python36\\lib\\site-packages\\ipykernel_launcher.py:7: SettingWithCopyWarning: \n",
      "A value is trying to be set on a copy of a slice from a DataFrame\n",
      "\n",
      "See the caveats in the documentation: http://pandas.pydata.org/pandas-docs/stable/indexing.html#indexing-view-versus-copy\n",
      "  import sys\n",
      "c:\\users\\hp\\appdata\\local\\programs\\python\\python36\\lib\\site-packages\\ipykernel_launcher.py:19: SettingWithCopyWarning: \n",
      "A value is trying to be set on a copy of a slice from a DataFrame\n",
      "\n",
      "See the caveats in the documentation: http://pandas.pydata.org/pandas-docs/stable/indexing.html#indexing-view-versus-copy\n",
      "c:\\users\\hp\\appdata\\local\\programs\\python\\python36\\lib\\site-packages\\ipykernel_launcher.py:22: SettingWithCopyWarning: \n",
      "A value is trying to be set on a copy of a slice from a DataFrame\n",
      "\n",
      "See the caveats in the documentation: http://pandas.pydata.org/pandas-docs/stable/indexing.html#indexing-view-versus-copy\n",
      "c:\\users\\hp\\appdata\\local\\programs\\python\\python36\\lib\\site-packages\\ipykernel_launcher.py:4: SettingWithCopyWarning: \n",
      "A value is trying to be set on a copy of a slice from a DataFrame\n",
      "\n",
      "See the caveats in the documentation: http://pandas.pydata.org/pandas-docs/stable/indexing.html#indexing-view-versus-copy\n",
      "  after removing the cwd from sys.path.\n",
      "c:\\users\\hp\\appdata\\local\\programs\\python\\python36\\lib\\site-packages\\ipykernel_launcher.py:16: SettingWithCopyWarning: \n",
      "A value is trying to be set on a copy of a slice from a DataFrame\n",
      "\n",
      "See the caveats in the documentation: http://pandas.pydata.org/pandas-docs/stable/indexing.html#indexing-view-versus-copy\n",
      "  app.launch_new_instance()\n"
     ]
    },
    {
     "name": "stdout",
     "output_type": "stream",
     "text": [
      "\n"
     ]
    }
   ],
   "source": [
    "for i in tqdm_notebook(range(len(df['Broj soba']))):\n",
    "    try:\n",
    "        if 'Jednosoban (1)'  == df['Broj soba'][i]:\n",
    "            df['Broj soba'][i] = 1\n",
    "            \n",
    "        if 'Jednoiposoban (1.5)'  == df['Broj soba'][i]:\n",
    "            df['Broj soba'][i] = 1.5\n",
    "            \n",
    "        if 'Dvosoban (2)'  == df['Broj soba'][i]:\n",
    "            df['Broj soba'][i] = 2\n",
    "            \n",
    "        if 'Trosoban (3)'  == df['Broj soba'][i]:\n",
    "            df['Broj soba'][i] = 3\n",
    "            \n",
    "        if 'Četverosoban (4)'  == df['Broj soba'][i]:\n",
    "            df['Broj soba'][i] = 4\n",
    "            \n",
    "        if 'Petosoban i više'  == df['Broj soba'][i]:\n",
    "            df['Broj soba'][i] = 5\n",
    "            \n",
    "        if 'Garsonjera'  == df['Broj soba'][i]:\n",
    "            df['Broj soba'][i] = 1\n",
    "            \n",
    "    except:\n",
    "        continue"
   ]
  },
  {
   "cell_type": "code",
   "execution_count": 9,
   "metadata": {},
   "outputs": [
    {
     "data": {
      "text/plain": [
       "array([2, 3, 1.5, 5, 1, 4, nan], dtype=object)"
      ]
     },
     "execution_count": 9,
     "metadata": {},
     "output_type": "execute_result"
    }
   ],
   "source": [
    "df['Broj soba'].unique()"
   ]
  },
  {
   "cell_type": "code",
   "execution_count": 10,
   "metadata": {
    "scrolled": true
   },
   "outputs": [
    {
     "name": "stdout",
     "output_type": "stream",
     "text": [
      "<class 'pandas.core.frame.DataFrame'>\n",
      "RangeIndex: 2487 entries, 0 to 2486\n",
      "Data columns (total 11 columns):\n",
      "url                     2487 non-null object\n",
      "naziv                   2472 non-null object\n",
      "cijena                  2487 non-null object\n",
      "lokacija                2472 non-null object\n",
      "lat                     2403 non-null float64\n",
      "lng                     2403 non-null float64\n",
      "Kvadrata                2467 non-null object\n",
      "Broj soba               2469 non-null object\n",
      "Adresa                  2222 non-null object\n",
      "Godina izgradnje        1099 non-null object\n",
      "Primarna orjentacija    827 non-null object\n",
      "dtypes: float64(2), object(9)\n",
      "memory usage: 213.8+ KB\n"
     ]
    }
   ],
   "source": [
    "df.info()"
   ]
  },
  {
   "cell_type": "markdown",
   "metadata": {},
   "source": [
    "###  Vidimo da imamo dosta nepotpunih podataka"
   ]
  },
  {
   "cell_type": "code",
   "execution_count": 11,
   "metadata": {},
   "outputs": [
    {
     "data": {
      "text/plain": [
       "<matplotlib.axes._subplots.AxesSubplot at 0x26ae4c0e438>"
      ]
     },
     "execution_count": 11,
     "metadata": {},
     "output_type": "execute_result"
    },
    {
     "data": {
      "image/png": "[encoded data removed]",
      "text/plain": [
       "<Figure size 432x288 with 1 Axes>"
      ]
     },
     "metadata": {
      "needs_background": "light"
     },
     "output_type": "display_data"
    }
   ],
   "source": [
    "sns.heatmap(df.isnull(),yticklabels=False,cbar=False,cmap='viridis')"
   ]
  },
  {
   "cell_type": "code",
   "execution_count": 12,
   "metadata": {},
   "outputs": [],
   "source": [
    "# izbacit cemo kolone 'Primarna orijentacija' i 'Godina izgradnje' jer njen nedostatak je prevelik\n",
    "\n",
    "df.drop('Primarna orjentacija', axis = 1, inplace=True)"
   ]
  },
  {
   "cell_type": "code",
   "execution_count": 13,
   "metadata": {},
   "outputs": [],
   "source": [
    "df.drop('Godina izgradnje', axis = 1, inplace=True)"
   ]
  },
  {
   "cell_type": "code",
   "execution_count": 14,
   "metadata": {},
   "outputs": [
    {
     "data": {
      "text/plain": [
       "array(['400 KM', '800 KM', '2000 KM', '380 KM', '450 KM', '40 KM',\n",
       "       '350 KM', '850 KM', '590 KM', '1200 KM', '500 KM', '300 KM',\n",
       "       '600 KM', '650 KM', '250 KM', '60 KM', '550 KM', '1000 KM',\n",
       "       'PO DOGOVORU', '1500 KM', '420 KM', '680 KM', '1100 KM', '700 KM',\n",
       "       '200 KM', '330 KM', '30 KM', '1500 KM 1000 KM', '25 KM', '35 KM',\n",
       "       '470 KM', '15 KM', '750 KM', '630 KM', '70 KM', '50 KM',\n",
       "       '850 KM 700 KM', '3000 KM', '150 KM', '2100 KM', '1600 KM',\n",
       "       '360 KM', '240 KM', '900 KM', '230 KM', '159000 KM', '1050 KM',\n",
       "       '950 KM', '390 KM', '575 KM', '2500 KM', '370 KM', '80 KM',\n",
       "       '10 KM', '790 KM', '1300 KM', '480 KM', '1800 KM', '2550 KM',\n",
       "       '1700 KM', '4000 KM', '3500 KM', '1400 KM', '2200 KM', '2300 KM',\n",
       "       '800 KM 750 KM', '650 KM 600 KM', '3650 KM 3000 KM', '530 KM',\n",
       "       '1790 KM', '950 KM 850 KM', '1900 KM', '450 KM 370 KM', '1099 KM',\n",
       "       '2400 KM', '4500 KM', '500 KM 450 KM', '1500 KM 1200 KM',\n",
       "       '800 KM 700 KM', '430 KM', '270 KM', '100 KM', '1250 KM',\n",
       "       '5000 KM', '120 KM', '1565 KM', '1150 KM', '400 KM ', '2700 KM',\n",
       "       '690 KM', '200000 KM', '695 KM', '249000 KM', '2600 KM', '990 KM',\n",
       "       '890 KM', '780 KM', '220 KM', '2800 KM', '450 KM 400 KM',\n",
       "       '1350 KM', '1550 KM', '400 KM 350 KM', '6000 KM', '103000 KM',\n",
       "       '3650 KM', '550 KM 500 KM', '1200 KM 1100 KM', '999 KM', '1650 KM',\n",
       "       '900 KM 800 KM', '700 KM 650 KM', '1100 KM 999 KM', '649 KM',\n",
       "       '850 KM 750 KM', '499 KM', '425 KM', '170 KM', '65 KM', '135 KM',\n",
       "       '299 KM', '210 KM', '280 KM', '20 KM', '195 KM', '199 KM',\n",
       "       '580 KM', '260 KM', '125 KM', '160 KM', '340 KM', '80000 KM',\n",
       "       '275 KM', '320 KM', '90 KM', '58KM', '2340 KM', '460 KM',\n",
       "       '700 KM 600 KM', '83 KM', '1750 KM', '1300 KM 1000 KM',\n",
       "       '185000 KM', '760 KM', '99 KM', '110000 KM', '49 KM', '830 KM',\n",
       "       '720 KM', '75000 KM', '520 KM'], dtype=object)"
      ]
     },
     "execution_count": 14,
     "metadata": {},
     "output_type": "execute_result"
    }
   ],
   "source": [
    "df['cijena'].unique()"
   ]
  },
  {
   "cell_type": "code",
   "execution_count": 15,
   "metadata": {
    "scrolled": false
   },
   "outputs": [
    {
     "data": {
      "application/vnd.jupyter.widget-view+json": {
       "model_id": "34986015ea454d5982f3a96b6bc3b974",
       "version_major": 2,
       "version_minor": 0
      },
      "text/plain": [
       "HBox(children=(IntProgress(value=0, max=2487), HTML(value='')))"
      ]
     },
     "metadata": {},
     "output_type": "display_data"
    },
    {
     "name": "stderr",
     "output_type": "stream",
     "text": [
      "c:\\users\\hp\\appdata\\local\\programs\\python\\python36\\lib\\site-packages\\ipykernel_launcher.py:6: SettingWithCopyWarning: \n",
      "A value is trying to be set on a copy of a slice from a DataFrame\n",
      "\n",
      "See the caveats in the documentation: http://pandas.pydata.org/pandas-docs/stable/indexing.html#indexing-view-versus-copy\n",
      "  \n",
      "c:\\users\\hp\\appdata\\local\\programs\\python\\python36\\lib\\site-packages\\ipykernel_launcher.py:4: SettingWithCopyWarning: \n",
      "A value is trying to be set on a copy of a slice from a DataFrame\n",
      "\n",
      "See the caveats in the documentation: http://pandas.pydata.org/pandas-docs/stable/indexing.html#indexing-view-versus-copy\n",
      "  after removing the cwd from sys.path.\n"
     ]
    },
    {
     "name": "stdout",
     "output_type": "stream",
     "text": [
      "\n"
     ]
    }
   ],
   "source": [
    "for i in tqdm_notebook(range(len(df['cijena']))):\n",
    "    try:\n",
    "        if 'PO DOGOVORU' in df['cijena'][i]:\n",
    "            df['cijena'][i] = None\n",
    "        if 'KM' in df['cijena'][i]:\n",
    "            df['cijena'][i] = df['cijena'][i].replace(df['cijena'][i], df['cijena'][i].split('KM')[0])\n",
    "    except:\n",
    "        continue"
   ]
  },
  {
   "cell_type": "code",
   "execution_count": 16,
   "metadata": {
    "scrolled": true
   },
   "outputs": [
    {
     "data": {
      "text/plain": [
       "array(['400 ', '800 ', '2000 ', '380 ', '450 ', '40 ', '350 ', '850 ',\n",
       "       '590 ', '1200 ', '500 ', '300 ', '600 ', '650 ', '250 ', '60 ',\n",
       "       '550 ', '1000 ', None, '1500 ', '420 ', '680 ', '1100 ', '700 ',\n",
       "       '200 ', '330 ', '30 ', '25 ', '35 ', '470 ', '15 ', '750 ', '630 ',\n",
       "       '70 ', '50 ', '3000 ', '150 ', '2100 ', '1600 ', '360 ', '240 ',\n",
       "       '900 ', '230 ', '159000 ', '1050 ', '950 ', '390 ', '575 ',\n",
       "       '2500 ', '370 ', '80 ', '10 ', '790 ', '1300 ', '480 ', '1800 ',\n",
       "       '2550 ', '1700 ', '4000 ', '3500 ', '1400 ', '2200 ', '2300 ',\n",
       "       '3650 ', '530 ', '1790 ', '1900 ', '1099 ', '2400 ', '4500 ',\n",
       "       '430 ', '270 ', '100 ', '1250 ', '5000 ', '120 ', '1565 ', '1150 ',\n",
       "       '2700 ', '690 ', '200000 ', '695 ', '249000 ', '2600 ', '990 ',\n",
       "       '890 ', '780 ', '220 ', '2800 ', '1350 ', '1550 ', '6000 ',\n",
       "       '103000 ', '999 ', '1650 ', '649 ', '499 ', '425 ', '170 ', '65 ',\n",
       "       '135 ', '299 ', '210 ', '280 ', '20 ', '195 ', '199 ', '580 ',\n",
       "       '260 ', '125 ', '160 ', '340 ', '80000 ', '275 ', '320 ', '90 ',\n",
       "       '58', '2340 ', '460 ', '83 ', '1750 ', '185000 ', '760 ', '99 ',\n",
       "       '110000 ', '49 ', '830 ', '720 ', '75000 ', '520 '], dtype=object)"
      ]
     },
     "execution_count": 16,
     "metadata": {},
     "output_type": "execute_result"
    }
   ],
   "source": [
    "df['cijena'].unique()"
   ]
  },
  {
   "cell_type": "code",
   "execution_count": 17,
   "metadata": {},
   "outputs": [
    {
     "data": {
      "text/plain": [
       "<matplotlib.axes._subplots.AxesSubplot at 0x26ae7db8dd8>"
      ]
     },
     "execution_count": 17,
     "metadata": {},
     "output_type": "execute_result"
    },
    {
     "data": {
      "image/png": "[encoded data removed]",
      "text/plain": [
       "<Figure size 432x288 with 1 Axes>"
      ]
     },
     "metadata": {
      "needs_background": "light"
     },
     "output_type": "display_data"
    }
   ],
   "source": [
    "sns.heatmap(df.isnull(),yticklabels=False,cbar=False,cmap='viridis')"
   ]
  },
  {
   "cell_type": "code",
   "execution_count": 18,
   "metadata": {},
   "outputs": [
    {
     "ename": "ValueError",
     "evalue": "cannot index with vector containing NA / NaN values",
     "output_type": "error",
     "traceback": [
      "\u001b[1;31m---------------------------------------------------------------------------\u001b[0m",
      "\u001b[1;31mValueError\u001b[0m                                Traceback (most recent call last)",
      "\u001b[1;32m<ipython-input-18-a25238e48315>\u001b[0m in \u001b[0;36m<module>\u001b[1;34m\u001b[0m\n\u001b[1;32m----> 1\u001b[1;33m \u001b[0mdf\u001b[0m\u001b[1;33m[\u001b[0m\u001b[0mdf\u001b[0m\u001b[1;33m[\u001b[0m\u001b[1;34m'cijena'\u001b[0m\u001b[1;33m]\u001b[0m\u001b[1;33m]\u001b[0m\u001b[1;33m.\u001b[0m\u001b[0mshape\u001b[0m\u001b[1;33m\u001b[0m\u001b[0m\n\u001b[0m",
      "\u001b[1;32mc:\\users\\hp\\appdata\\local\\programs\\python\\python36\\lib\\site-packages\\pandas\\core\\frame.py\u001b[0m in \u001b[0;36m__getitem__\u001b[1;34m(self, key)\u001b[0m\n\u001b[0;32m   2680\u001b[0m         \u001b[1;32mif\u001b[0m \u001b[0misinstance\u001b[0m\u001b[1;33m(\u001b[0m\u001b[0mkey\u001b[0m\u001b[1;33m,\u001b[0m \u001b[1;33m(\u001b[0m\u001b[0mSeries\u001b[0m\u001b[1;33m,\u001b[0m \u001b[0mnp\u001b[0m\u001b[1;33m.\u001b[0m\u001b[0mndarray\u001b[0m\u001b[1;33m,\u001b[0m \u001b[0mIndex\u001b[0m\u001b[1;33m,\u001b[0m \u001b[0mlist\u001b[0m\u001b[1;33m)\u001b[0m\u001b[1;33m)\u001b[0m\u001b[1;33m:\u001b[0m\u001b[1;33m\u001b[0m\u001b[0m\n\u001b[0;32m   2681\u001b[0m             \u001b[1;31m# either boolean or fancy integer index\u001b[0m\u001b[1;33m\u001b[0m\u001b[1;33m\u001b[0m\u001b[0m\n\u001b[1;32m-> 2682\u001b[1;33m             \u001b[1;32mreturn\u001b[0m \u001b[0mself\u001b[0m\u001b[1;33m.\u001b[0m\u001b[0m_getitem_array\u001b[0m\u001b[1;33m(\u001b[0m\u001b[0mkey\u001b[0m\u001b[1;33m)\u001b[0m\u001b[1;33m\u001b[0m\u001b[0m\n\u001b[0m\u001b[0;32m   2683\u001b[0m         \u001b[1;32melif\u001b[0m \u001b[0misinstance\u001b[0m\u001b[1;33m(\u001b[0m\u001b[0mkey\u001b[0m\u001b[1;33m,\u001b[0m \u001b[0mDataFrame\u001b[0m\u001b[1;33m)\u001b[0m\u001b[1;33m:\u001b[0m\u001b[1;33m\u001b[0m\u001b[0m\n\u001b[0;32m   2684\u001b[0m             \u001b[1;32mreturn\u001b[0m \u001b[0mself\u001b[0m\u001b[1;33m.\u001b[0m\u001b[0m_getitem_frame\u001b[0m\u001b[1;33m(\u001b[0m\u001b[0mkey\u001b[0m\u001b[1;33m)\u001b[0m\u001b[1;33m\u001b[0m\u001b[0m\n",
      "\u001b[1;32mc:\\users\\hp\\appdata\\local\\programs\\python\\python36\\lib\\site-packages\\pandas\\core\\frame.py\u001b[0m in \u001b[0;36m_getitem_array\u001b[1;34m(self, key)\u001b[0m\n\u001b[0;32m   2707\u001b[0m     \u001b[1;32mdef\u001b[0m \u001b[0m_getitem_array\u001b[0m\u001b[1;33m(\u001b[0m\u001b[0mself\u001b[0m\u001b[1;33m,\u001b[0m \u001b[0mkey\u001b[0m\u001b[1;33m)\u001b[0m\u001b[1;33m:\u001b[0m\u001b[1;33m\u001b[0m\u001b[0m\n\u001b[0;32m   2708\u001b[0m         \u001b[1;31m# also raises Exception if object array with NA values\u001b[0m\u001b[1;33m\u001b[0m\u001b[1;33m\u001b[0m\u001b[0m\n\u001b[1;32m-> 2709\u001b[1;33m         \u001b[1;32mif\u001b[0m \u001b[0mcom\u001b[0m\u001b[1;33m.\u001b[0m\u001b[0mis_bool_indexer\u001b[0m\u001b[1;33m(\u001b[0m\u001b[0mkey\u001b[0m\u001b[1;33m)\u001b[0m\u001b[1;33m:\u001b[0m\u001b[1;33m\u001b[0m\u001b[0m\n\u001b[0m\u001b[0;32m   2710\u001b[0m             \u001b[1;31m# warning here just in case -- previously __setitem__ was\u001b[0m\u001b[1;33m\u001b[0m\u001b[1;33m\u001b[0m\u001b[0m\n\u001b[0;32m   2711\u001b[0m             \u001b[1;31m# reindexing but __getitem__ was not; it seems more reasonable to\u001b[0m\u001b[1;33m\u001b[0m\u001b[1;33m\u001b[0m\u001b[0m\n",
      "\u001b[1;32mc:\\users\\hp\\appdata\\local\\programs\\python\\python36\\lib\\site-packages\\pandas\\core\\common.py\u001b[0m in \u001b[0;36mis_bool_indexer\u001b[1;34m(key)\u001b[0m\n\u001b[0;32m    105\u001b[0m             \u001b[1;32mif\u001b[0m \u001b[1;32mnot\u001b[0m \u001b[0mlib\u001b[0m\u001b[1;33m.\u001b[0m\u001b[0mis_bool_array\u001b[0m\u001b[1;33m(\u001b[0m\u001b[0mkey\u001b[0m\u001b[1;33m)\u001b[0m\u001b[1;33m:\u001b[0m\u001b[1;33m\u001b[0m\u001b[0m\n\u001b[0;32m    106\u001b[0m                 \u001b[1;32mif\u001b[0m \u001b[0misna\u001b[0m\u001b[1;33m(\u001b[0m\u001b[0mkey\u001b[0m\u001b[1;33m)\u001b[0m\u001b[1;33m.\u001b[0m\u001b[0many\u001b[0m\u001b[1;33m(\u001b[0m\u001b[1;33m)\u001b[0m\u001b[1;33m:\u001b[0m\u001b[1;33m\u001b[0m\u001b[0m\n\u001b[1;32m--> 107\u001b[1;33m                     raise ValueError('cannot index with vector containing '\n\u001b[0m\u001b[0;32m    108\u001b[0m                                      'NA / NaN values')\n\u001b[0;32m    109\u001b[0m                 \u001b[1;32mreturn\u001b[0m \u001b[1;32mFalse\u001b[0m\u001b[1;33m\u001b[0m\u001b[0m\n",
      "\u001b[1;31mValueError\u001b[0m: cannot index with vector containing NA / NaN values"
     ]
    }
   ],
   "source": [
    "df[df['cijena']].shape"
   ]
  },
  {
   "cell_type": "code",
   "execution_count": null,
   "metadata": {},
   "outputs": [],
   "source": [
    "\n",
    "df.dropna(inplace=True)"
   ]
  },
  {
   "cell_type": "code",
   "execution_count": null,
   "metadata": {
    "scrolled": true
   },
   "outputs": [],
   "source": [
    "sns.heatmap(df.isnull(),yticklabels=False,cbar=False,cmap='viridis')"
   ]
  },
  {
   "cell_type": "code",
   "execution_count": null,
   "metadata": {},
   "outputs": [],
   "source": [
    "# cista data"
   ]
  },
  {
   "cell_type": "code",
   "execution_count": null,
   "metadata": {},
   "outputs": [],
   "source": [
    "df.head()"
   ]
  },
  {
   "cell_type": "code",
   "execution_count": null,
   "metadata": {},
   "outputs": [],
   "source": [
    "df.info()"
   ]
  },
  {
   "cell_type": "code",
   "execution_count": null,
   "metadata": {},
   "outputs": [],
   "source": [
    "# Prebacivanje vrijednosti u odgovaajuce numericke vrijednosti\n",
    "\n",
    "numeric_cols = ['Kvadrata','cijena', 'Broj soba']\n",
    "\n",
    "for col in numeric_cols:\n",
    "    df[col] = df[col].astype(float)\n",
    "    \n"
   ]
  },
  {
   "cell_type": "code",
   "execution_count": null,
   "metadata": {},
   "outputs": [],
   "source": [
    "df.info()"
   ]
  },
  {
   "cell_type": "code",
   "execution_count": null,
   "metadata": {},
   "outputs": [],
   "source": [
    "df.describe()"
   ]
  },
  {
   "cell_type": "markdown",
   "metadata": {},
   "source": [
    "### Sada mozemo vizualizirati nase podatke"
   ]
  },
  {
   "cell_type": "code",
   "execution_count": null,
   "metadata": {},
   "outputs": [],
   "source": [
    "from plotly.offline import download_plotlyjs, init_notebook_mode, plot, iplot\n",
    "\n",
    "import plotly.graph_objs as go\n",
    "\n",
    "init_notebook_mode()"
   ]
  },
  {
   "cell_type": "code",
   "execution_count": null,
   "metadata": {},
   "outputs": [],
   "source": [
    "x = df['lokacija']\n",
    "\n",
    "trace0 = go.Box(\n",
    "    y=df['cijena'],\n",
    "    x=x,\n",
    "    name='kale',\n",
    "    marker=dict(\n",
    "        color='blue'\n",
    "    )\n",
    ")\n",
    "\n",
    "data = [trace0]\n",
    "layout = go.Layout(\n",
    "    yaxis=dict(\n",
    "        title='cijene',\n",
    "        zeroline=False\n",
    "    ),\n",
    "    boxmode='group'\n",
    ")\n",
    "\n",
    "fig = go.Figure(data=data, layout=layout)\n",
    "iplot(fig)"
   ]
  },
  {
   "cell_type": "markdown",
   "metadata": {},
   "source": [
    "### Vidimo da imamo veoma visoke cijene, posebno u predjelu Centra i Starog grada.  Smanjit cemo nase podatke tako da obuhvatamo samo normalnije cijene"
   ]
  },
  {
   "cell_type": "code",
   "execution_count": null,
   "metadata": {},
   "outputs": [],
   "source": [
    "df2 = df[df['cijena'] < 3000]"
   ]
  },
  {
   "cell_type": "code",
   "execution_count": null,
   "metadata": {},
   "outputs": [],
   "source": [
    "x = df2['lokacija']\n",
    "\n",
    "trace0 = go.Box(\n",
    "    y=df2['cijena'],\n",
    "    x=x,\n",
    "    name='kale',\n",
    "    marker=dict(\n",
    "        color='blue'\n",
    "    )\n",
    ")\n",
    "\n",
    "data = [trace0]\n",
    "layout = go.Layout(\n",
    "    yaxis=dict(\n",
    "        title='cijene',\n",
    "        zeroline=False\n",
    "    ),\n",
    "    boxmode='group'\n",
    ")\n",
    "\n",
    "fig = go.Figure(data=data, layout=layout)\n",
    "iplot(fig)"
   ]
  },
  {
   "cell_type": "markdown",
   "metadata": {},
   "source": [
    "### Rijesili smo se ogromnih cijena, ali opet imamo previse outliersa, tako da je potrebno dodatno ograniciti nase podatke"
   ]
  },
  {
   "cell_type": "code",
   "execution_count": null,
   "metadata": {},
   "outputs": [],
   "source": [
    "df2 = df[df['cijena'] < 1500]"
   ]
  },
  {
   "cell_type": "code",
   "execution_count": null,
   "metadata": {},
   "outputs": [],
   "source": [
    "x = df2['lokacija']\n",
    "\n",
    "trace0 = go.Box(\n",
    "    y=df2['cijena'],\n",
    "    x=x,\n",
    "    name='kale',\n",
    "    marker=dict(\n",
    "        color='blue'\n",
    "    )\n",
    ")\n",
    "\n",
    "data = [trace0]\n",
    "layout = go.Layout(\n",
    "    yaxis=dict(\n",
    "        title='cijene',\n",
    "        zeroline=False\n",
    "    ),\n",
    "    boxmode='group'\n",
    ")\n",
    "\n",
    "fig = go.Figure(data=data, layout=layout)\n",
    "iplot(fig)"
   ]
  },
  {
   "cell_type": "markdown",
   "metadata": {},
   "source": [
    "### Ovo je ono sto smo trazili ! Kao sto vidimo Stari grad, Centar i Vogosca imaju najvece prosjecne cijene"
   ]
  },
  {
   "cell_type": "code",
   "execution_count": null,
   "metadata": {},
   "outputs": [],
   "source": [
    "df2['cijena'].mean()"
   ]
  },
  {
   "cell_type": "code",
   "execution_count": null,
   "metadata": {},
   "outputs": [],
   "source": [
    "df2['cijena'].kurtosis()"
   ]
  },
  {
   "cell_type": "code",
   "execution_count": null,
   "metadata": {},
   "outputs": [],
   "source": [
    "import plotly.figure_factory as ff\n",
    "\n",
    "hist_data = [df2['cijena']]\n",
    "group_labels = ['distplot']\n",
    "\n",
    "fig = ff.create_distplot(hist_data, group_labels, bin_size=20)\n",
    "iplot(fig, filename='Distribucija cijena')"
   ]
  },
  {
   "cell_type": "code",
   "execution_count": null,
   "metadata": {},
   "outputs": [],
   "source": [
    "print(\"Skewness: %f\" % df2['cijena'].skew())\n",
    "print(\"Kurtosis: %f\" % df2['cijena'].kurt())"
   ]
  },
  {
   "cell_type": "markdown",
   "metadata": {},
   "source": [
    "#### High skewness and peakedness usually represent a problem for creating a predictive model, as some algorithms make some assumptions about training data having an (almost) normal distribution. Moreover, from my experience peakedness might influence how algorithms calculate error, thus adding bias to predictions.\n",
    "\n",
    "#### Luckily, we don't have this problem. So let's continue our analysis. We will leverage seaborn in order to generate a pairplot. Pairplots are useful in that they provide an easy way to visualize relationships between the variables from an specific dataset."
   ]
  },
  {
   "cell_type": "code",
   "execution_count": null,
   "metadata": {},
   "outputs": [],
   "source": [
    "sns.pairplot(df2)"
   ]
  },
  {
   "cell_type": "code",
   "execution_count": null,
   "metadata": {},
   "outputs": [],
   "source": [
    "plt.figure(figsize=(12,12))\n",
    "\n",
    "sns.heatmap(df2.corr(), annot=True)"
   ]
  },
  {
   "cell_type": "code",
   "execution_count": null,
   "metadata": {
    "scrolled": false
   },
   "outputs": [],
   "source": [
    "import plotly.tools as tools\n",
    "\n",
    "trace1 = go.Scatter(\n",
    "    name='test',\n",
    "    x = df2['Kvadrata'],\n",
    "    y = df2['cijena'],\n",
    "    mode='markers',\n",
    "    marker=dict(\n",
    "        size=5,\n",
    "        color = np.log(df2['cijena']),\n",
    "        colorscale='Viridis',\n",
    "        showscale=False\n",
    "    )\n",
    ")\n",
    "\n",
    "trace2 = go.Scatter(\n",
    "    x = np.log(df2['Kvadrata']),\n",
    "    y = np.log(df2['cijena']),\n",
    "    mode='markers',\n",
    "    marker=dict(\n",
    "        size=5,\n",
    "        color = np.log(df['cijena']), \n",
    "        colorscale='Viridis',\n",
    "        showscale=False\n",
    "    )\n",
    ")\n",
    "\n",
    "trace3 = go.Scatter(\n",
    "    x = np.log(df2['Kvadrata']),\n",
    "    y = np.log(df2['lat']),\n",
    "    mode='markers',\n",
    "    marker=dict(\n",
    "        size=5,\n",
    "        color = np.log(df['lat']), \n",
    "        colorscale='Viridis',\n",
    "        showscale=False\n",
    "    )\n",
    ")\n",
    "\n",
    "trace4 = go.Scatter(\n",
    "    x = np.log(df2['cijena']),\n",
    "    y = np.log(df2['lat']),\n",
    "    mode='markers',\n",
    "    marker=dict(\n",
    "        size=5,\n",
    "        color = np.log(df['lat']), \n",
    "        colorscale='Viridis',\n",
    "        showscale=False\n",
    "    )\n",
    ")\n",
    "\n",
    "fig = tools.make_subplots(rows=2, cols=2, subplot_titles=('size x price', 'size x price (log)',\n",
    "                                                          'size x latitude (log)', 'price x latitude (log)'))\n",
    "\n",
    "fig.append_trace(trace1, 1, 1)\n",
    "fig.append_trace(trace2, 1, 2)\n",
    "fig.append_trace(trace3, 2, 1)\n",
    "fig.append_trace(trace4, 2, 2)\n",
    "\n",
    "\n",
    "\n",
    "fig['layout'].update(height=400, width=600, title='Stacked subplots')\n",
    "iplot(fig)"
   ]
  },
  {
   "cell_type": "code",
   "execution_count": null,
   "metadata": {},
   "outputs": [],
   "source": [
    "df2['Adresa'].value_counts().head(30)"
   ]
  },
  {
   "cell_type": "code",
   "execution_count": null,
   "metadata": {},
   "outputs": [],
   "source": [
    "\n",
    "df_popularna_mjesta = df2[(df2['Adresa'].isin(list(df2['Adresa'].value_counts().head(30).index)))]"
   ]
  },
  {
   "cell_type": "code",
   "execution_count": null,
   "metadata": {},
   "outputs": [],
   "source": [
    "\n",
    "var = 'Adresa'\n",
    "data = pd.concat([df_popularna_mjesta.cijena, df_popularna_mjesta.loc[:,var]], axis=1)\n",
    "f, ax = plt.subplots(figsize=(20, 12))\n",
    "fig = sns.boxplot(x=var, y=\"cijena\", data=data)\n",
    "fig.axis(ymin=100, ymax=1500);\n",
    "plt.xticks(rotation=90);\n",
    "\n",
    "# We change the fontsize of minor ticks label \n",
    "plt.tick_params(axis='both', which='major', labelsize=10)"
   ]
  },
  {
   "cell_type": "code",
   "execution_count": null,
   "metadata": {},
   "outputs": [],
   "source": [
    "\n",
    "x = df2['Broj soba']\n",
    "\n",
    "trace0 = go.Box(\n",
    "    y=df2['cijena'],\n",
    "    x=x,\n",
    "    name='kale',\n",
    "    marker=dict(\n",
    "        color='Green'\n",
    "    )\n",
    ")\n",
    "\n",
    "data = [trace0]\n",
    "layout = go.Layout(\n",
    "    yaxis=dict(\n",
    "        title='cijena',\n",
    "        zeroline=False\n",
    "    ),\n",
    "    xaxis = dict(title = 'Broj soba'),\n",
    "    boxmode='group'\n",
    ")\n",
    "\n",
    "fig = go.Figure(data=data, layout=layout)\n",
    "iplot(fig)"
   ]
  },
  {
   "cell_type": "code",
   "execution_count": null,
   "metadata": {},
   "outputs": [],
   "source": [
    "import folium\n",
    "from folium import plugins"
   ]
  },
  {
   "cell_type": "code",
   "execution_count": null,
   "metadata": {},
   "outputs": [],
   "source": [
    "df2['cijena soba'] = df['cijena'] / df['Broj soba']"
   ]
  },
  {
   "cell_type": "code",
   "execution_count": null,
   "metadata": {},
   "outputs": [],
   "source": [
    "df2.head()"
   ]
  },
  {
   "cell_type": "code",
   "execution_count": null,
   "metadata": {
    "scrolled": false
   },
   "outputs": [],
   "source": [
    "\n",
    "m = folium.Map([43.857804,18.3860903], zoom_start=12, tiles='Stamen Toner')\n",
    "\n",
    "\n",
    "for i,row in df2.iterrows():\n",
    "    \n",
    "    red = int((row['cijena soba'] / df2['cijena soba'].mean()) * 155)\n",
    "    \n",
    "    green = 355 - red\n",
    "    \n",
    "    html = '#%02x%02x%02x' % (red, green, 0) \n",
    "    \n",
    "    \n",
    "    mark ='{} <br> {}m2'.format(row['cijena'], row['Broj soba'])\n",
    "   \n",
    "    \n",
    "    popup = folium.Popup(row['cijena'], parse_html=True)\n",
    "    \n",
    "    folium.CircleMarker(location=[row['lat'],row['lng']], radius=(row['Broj soba']*5), color=html, fill=html, fill_opacity='0.3', popup=popup).add_to(m)\n",
    "\n",
    "    \n",
    "\n",
    "        \n",
    "m"
   ]
  },
  {
   "cell_type": "code",
   "execution_count": null,
   "metadata": {},
   "outputs": [],
   "source": [
    "df2.head()"
   ]
  },
  {
   "cell_type": "code",
   "execution_count": null,
   "metadata": {},
   "outputs": [],
   "source": [
    "df2 = df2.join(pd.get_dummies(df2['lokacija']), rsuffix='_2')\n",
    "df2 = df2.join(pd.get_dummies(df2['Adresa']), rsuffix='_2')\n",
    "\n",
    "df2 = df2.drop(['lokacija', 'Adresa', 'url', 'naziv'], axis=1)"
   ]
  },
  {
   "cell_type": "code",
   "execution_count": null,
   "metadata": {},
   "outputs": [],
   "source": [
    "df2.head()"
   ]
  },
  {
   "cell_type": "code",
   "execution_count": null,
   "metadata": {},
   "outputs": [],
   "source": [
    "X = df2.drop('cijena', axis=1)\n",
    "y = df2['cijena']"
   ]
  },
  {
   "cell_type": "code",
   "execution_count": null,
   "metadata": {},
   "outputs": [],
   "source": [
    "from sklearn.model_selection import train_test_split"
   ]
  },
  {
   "cell_type": "code",
   "execution_count": null,
   "metadata": {},
   "outputs": [],
   "source": [
    "X_train, X_test, y_train, y_test = train_test_split(X, y, test_size=0.3, random_state=42)"
   ]
  },
  {
   "cell_type": "code",
   "execution_count": null,
   "metadata": {},
   "outputs": [],
   "source": [
    "from sklearn.ensemble import RandomForestRegressor"
   ]
  },
  {
   "cell_type": "code",
   "execution_count": null,
   "metadata": {},
   "outputs": [],
   "source": [
    "rfr = RandomForestRegressor(n_estimators=50)"
   ]
  },
  {
   "cell_type": "code",
   "execution_count": null,
   "metadata": {},
   "outputs": [],
   "source": [
    "rfr.fit(X_train, y_train)"
   ]
  },
  {
   "cell_type": "code",
   "execution_count": null,
   "metadata": {},
   "outputs": [],
   "source": [
    "pred = rfr.predict(X_test)"
   ]
  },
  {
   "cell_type": "code",
   "execution_count": null,
   "metadata": {},
   "outputs": [],
   "source": [
    "rfr.score(X_test, y_test)"
   ]
  },
  {
   "cell_type": "code",
   "execution_count": null,
   "metadata": {},
   "outputs": [],
   "source": [
    "plt.figure(figsize=(20,12))\n",
    "\n",
    "plt.plot(range(0, y_test.shape[0]), y_test, marker='+')\n",
    "plt.plot(range(0, pred.shape[0]), pred, marker='o')"
   ]
  },
  {
   "cell_type": "code",
   "execution_count": null,
   "metadata": {},
   "outputs": [],
   "source": [
    "from sklearn.metrics import mean_squared_error\n",
    "np.sqrt(mean_squared_error(y_test, pred))"
   ]
  },
  {
   "cell_type": "code",
   "execution_count": null,
   "metadata": {},
   "outputs": [],
   "source": [
    "important_features_dict = {}\n",
    "for x,i in enumerate(df2.feature_importances_):\n",
    "    important_features_dict[x]=i\n",
    "\n",
    "\n",
    "important_features_list = sorted(important_features_dict,\n",
    "                                 key=important_features_dict.get,\n",
    "                                 reverse=True)\n",
    "\n",
    "print('Most important features: {}', important_features_list[:15])"
   ]
  },
  {
   "cell_type": "code",
   "execution_count": null,
   "metadata": {},
   "outputs": [],
   "source": [
    "\n",
    "from sklearn.linear_model import LinearRegression\n",
    "\n",
    "\n"
   ]
  },
  {
   "cell_type": "code",
   "execution_count": null,
   "metadata": {},
   "outputs": [],
   "source": [
    "X_train, X_test, y_train, y_test = train_test_split(X, y, test_size=0.33)"
   ]
  },
  {
   "cell_type": "code",
   "execution_count": null,
   "metadata": {},
   "outputs": [],
   "source": [
    "lr = LinearRegression()"
   ]
  },
  {
   "cell_type": "code",
   "execution_count": null,
   "metadata": {
    "scrolled": true
   },
   "outputs": [],
   "source": [
    "lr.fit(X_train, y_train)"
   ]
  },
  {
   "cell_type": "code",
   "execution_count": null,
   "metadata": {},
   "outputs": [],
   "source": [
    "predictions = lr.predict(X_test)"
   ]
  },
  {
   "cell_type": "code",
   "execution_count": null,
   "metadata": {},
   "outputs": [],
   "source": [
    "lr.score(X_test, y_test)"
   ]
  },
  {
   "cell_type": "code",
   "execution_count": null,
   "metadata": {},
   "outputs": [],
   "source": [
    "print('Intercept: \\n', lr.intercept_)\n",
    "print('Coefficients: \\n', lr.coef_)\n"
   ]
  },
  {
   "cell_type": "code",
   "execution_count": null,
   "metadata": {},
   "outputs": [],
   "source": [
    "np.sqrt(mean_squared_error(y_test, predictions))"
   ]
  }
 ],
 "metadata": {
  "kernelspec": {
   "display_name": "Python 3",
   "language": "python",
   "name": "python3"
  },
  "language_info": {
   "codemirror_mode": {
    "name": "ipython",
    "version": 3
   },
   "file_extension": ".py",
   "mimetype": "text/x-python",
   "name": "python",
   "nbconvert_exporter": "python",
   "pygments_lexer": "ipython3",
   "version": "3.6.5"
  }
 },
 "nbformat": 4,
 "nbformat_minor": 2
}
